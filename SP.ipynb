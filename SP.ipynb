{
 "cells": [
  {
   "cell_type": "markdown",
   "metadata": {},
   "source": [
    "# PART 1. Using statistical methods to prove whether there is a connection between time series or not"
   ]
  },
  {
   "cell_type": "code",
   "execution_count": 35,
   "metadata": {},
   "outputs": [],
   "source": [
    "\n",
    "# Libraries import\n",
    "\n",
    "from pandas import read_csv, DataFrame\n",
    "import numpy as np \n",
    "import matplotlib.pyplot as plt                   # import the library for plotting graphics\n",
    "import csv\n",
    "import numpy as np\n",
    "from sklearn.linear_model import LinearRegression # import LinearRegression library from sklearn\n",
    "import statsmodels.api as sm                      # import the library to identify statistical patterns\n",
    "from collections import Counter                   # to count the number of objects in the dictionary\n",
    "from datetime import datetime\n",
    "import pandas as pd"
   ]
  },
  {
   "cell_type": "code",
   "execution_count": 6,
   "metadata": {},
   "outputs": [],
   "source": [
    "# import the file, previously changed its format to .csv\n",
    "\n",
    "dataset_SP_weeks=read_csv('Dataset_SP_weeks.csv',';',delimiter=\";\", encoding=\"windows-1251\")\n",
    "dataset_FTSE_weeks=read_csv('Dataset_FTSE_weeks.csv',';',delimiter=\";\", encoding=\"windows-1251\")\n",
    "\n",
    "# reading the data form (checking the correct data import)\n",
    "\n",
    "print(dataset_SP_weeks[:5])   \n",
    "print(dataset_FTSE_weeks.shape)\n",
    "\n",
    "# reading the file 'Dataset_SP_weeks.csv' into the development environment and opening it:\n",
    "\n",
    "with open('Dataset_SP_weeks.csv', 'r') as file_data_csv:\n",
    "    csvfile_reader = csv.reader(file_data_csv, delimiter=\";\") # writing our delimited file with \";\" to the csvfile_reader variable\n",
    "    next(csvfile_reader)                                      # skiping heading to go exactly to numbers\n",
    "    data_array_SP = [line[2] for line in csvfile_reader]\n",
    "print(data_array_SP)                                          # displaying the data sheet on the screen\n",
    "\n",
    "\n",
    "# Carrying out similar operations with the following file \"Dataset_FTSE_weeks.csv\"\n",
    "\n",
    "with open('Dataset_FTSE_weeks.csv', 'r') as file_data_csv:\n",
    "    csvfile_reader = csv.reader(file_data_csv, delimiter=\";\")\n",
    "    next(csvfile_reader) \n",
    "    data_array_FTSE = [line[2] for line in csvfile_reader]\n",
    "print(data_array_FTSE)"
   ]
  },
  {
   "cell_type": "code",
   "execution_count": 11,
   "metadata": {},
   "outputs": [],
   "source": [
    "data_array_FTSE_mass = []              # creating two empty arrays\n",
    "data_array_SP_mass = []\n",
    "for i in range(len(data_array_FTSE)):\n",
    "    t1 = float(data_array_FTSE[i])     # transition from string data to float\n",
    "    t2 = float(data_array_SP[i])             \n",
    "    data_array_FTSE_mass.append(t1)   \n",
    "    data_array_SP_mass.append(t2)      # adding each item to a new array\n",
    "\n",
    "# conversion to arrays suitable for analysis using the np.asarray() function\n",
    "# which converts a sequence to an array\n",
    "\n",
    "data_array_FTSE_mass = np.asarray(data_array_FTSE_mass)\n",
    "data_array_SP_mass = np.asarray(data_array_SP_mass)\n",
    "print(data_array_SP_mass) \n",
    "print(data_array_FTSE_mass) "
   ]
  },
  {
   "cell_type": "code",
   "execution_count": 12,
   "metadata": {},
   "outputs": [],
   "source": [
    "# Finding out the degree of correlation between indices\n",
    "\n",
    "data_array_FTSE_mass_x = np.array(data_array_FTSE_mass).reshape((-1, 1))       # converting one of the arrays to a two-dimensional array\n",
    "data_array_FTSE_mass_y = np.array(data_array_SP_mass)\n",
    "model = LinearRegression().fit(data_array_FTSE_mass_x, data_array_FTSE_mass_y) # building a regression model\n",
    "\n",
    "\n",
    "R= model.score(data_array_FTSE_mass_x, data_array_FTSE_mass_y)  # find the R2 value\n",
    "print('R^2 = ', R)\n",
    "print('a1:', model.intercept_)                                  # coefficient a1\n",
    "print('a0:', model.coef_)                                       # coefficient a0"
   ]
  },
  {
   "cell_type": "code",
   "execution_count": 19,
   "metadata": {},
   "outputs": [],
   "source": [
    "# Graphical interpretation of correlation\n",
    "\n",
    "x=np.arange(-10.0,16.0)\n",
    "y = 0.613546*x+0.11422965728811352\n",
    "fig = plt.figure()\n",
    "ax = fig.add_subplot(1,1,1)         # create drawing space\n",
    "\n",
    "#Displaying Index Points and Linear Fit\n",
    "\n",
    "plt.plot(data_array_FTSE_mass, data_array_SP_mass, 'bo', color = 'blue', label = 'Historical data') \n",
    "plt.plot(x,y)\n",
    "plt.title('Week data. FTSE and S&P 500 correlation')\n",
    "plt.xlabel('Profitability FTSE')  # axis labels\n",
    "plt.ylabel('Profitability S&P 500') \n",
    "ax.grid() # building grid\n",
    "ax.set_ylim(-18, 18) \n",
    "ax.set_xlim(-10, 18)\n",
    "plt.show()"
   ]
  },
  {
   "cell_type": "markdown",
   "metadata": {},
   "source": [
    "# PART 2. Building a predictive model ARIMA on weekly charts"
   ]
  },
  {
   "cell_type": "code",
   "execution_count": 22,
   "metadata": {},
   "outputs": [],
   "source": [
    "# Graphic interpretation of weekly charts\n",
    "dataset_FTSE_weeks=read_csv('Dataset_FTSE_weeks.csv',';',delimiter=\";\", encoding=\"windows-1251\")  \n",
    "print(dataset_FTSE_weeks.shape)\n",
    "dataset_FTSE_weeks.head()\n",
    "dataset_FTSE_weeks.Close\n",
    "dataset_FTSE_weeks.Close.plot()\n",
    "plt.title('FTSE price dynamics')\n",
    "plt.xlabel('Week number') \n",
    "plt.ylabel('Close prices FTSE')\n",
    "plt.grid()\n",
    "plt.show()\n",
    "\n",
    "# Building histogramm to check if the distribution is normal\n",
    "dataset_FTSE_weeks.Close.hist()"
   ]
  },
  {
   "cell_type": "code",
   "execution_count": 28,
   "metadata": {},
   "outputs": [
    {
     "name": "stdout",
     "output_type": "stream",
     "text": [
      "Row is not stationary!\n"
     ]
    }
   ],
   "source": [
    "testDF = sm.tsa.adfuller(dataset_FTSE_weeks.Close) # apply the Dicky-Fuller test function to our array to check the stationarity of the row\n",
    "print('adf:', testDF[0]) \n",
    "print('p-value:', testDF[1])\n",
    "print('Critical values:', testDF[4])\n",
    "if testDF[0]>testDF[4]['5%']:                      # Comparing hypotheses. Here we choose 5% significance as the DF criterion.\n",
    "    print('Row is not stationary!')\n",
    "else:\n",
    "    print('Row is stationary!')\n",
    "    "
   ]
  },
  {
   "cell_type": "code",
   "execution_count": 30,
   "metadata": {},
   "outputs": [
    {
     "name": "stdout",
     "output_type": "stream",
     "text": [
      "Row is stationary!\n"
     ]
    }
   ],
   "source": [
    "# Reducing a non-stationary series to a stationary one\n",
    "\n",
    "close = dataset_FTSE_weeks.Close                    # create a new variable close to make it easier to write code (close prices)\n",
    "close_stationary = close.diff(periods = 1).dropna() # difference between the current row and the previous\n",
    "testDF = sm.tsa.adfuller(close_stationary)          # reapply the Dicky-Fuller test function\n",
    "\n",
    "# Likewise сompare hypotheses. Here we choose also 5% significance as the DF criterion.\n",
    "print('adf:', testDF[0])\n",
    "print('p-value:', testDF[1])\n",
    "print('Critical values:', testDF[4])\n",
    "if testDF[0]>testDF[4]['5%']: \n",
    "    print('Row is not stationary!')\n",
    "else:\n",
    "    print('Row is stationary!')"
   ]
  },
  {
   "cell_type": "code",
   "execution_count": 32,
   "metadata": {},
   "outputs": [],
   "source": [
    "# plotting partial autocorrelation\n",
    "\n",
    "Partial_autocorrelation = sm.graphics.tsa.plot_pacf(close_stationary, lags = 19)"
   ]
  },
  {
   "cell_type": "code",
   "execution_count": 33,
   "metadata": {},
   "outputs": [
    {
     "name": "stderr",
     "output_type": "stream",
     "text": [
      "C:\\Users\\Samir555\\anaconda3\\lib\\site-packages\\statsmodels\\tsa\\arima_model.py:472: FutureWarning: \n",
      "statsmodels.tsa.arima_model.ARMA and statsmodels.tsa.arima_model.ARIMA have\n",
      "been deprecated in favor of statsmodels.tsa.arima.model.ARIMA (note the .\n",
      "between arima and model) and\n",
      "statsmodels.tsa.SARIMAX. These will be removed after the 0.12 release.\n",
      "\n",
      "statsmodels.tsa.arima.model.ARIMA makes use of the statespace framework and\n",
      "is both well tested and maintained.\n",
      "\n",
      "To silence this warning and continue using ARMA and ARIMA until they are\n",
      "removed, use:\n",
      "\n",
      "import warnings\n",
      "warnings.filterwarnings('ignore', 'statsmodels.tsa.arima_model.ARMA',\n",
      "                        FutureWarning)\n",
      "warnings.filterwarnings('ignore', 'statsmodels.tsa.arima_model.ARIMA',\n",
      "                        FutureWarning)\n",
      "\n",
      "  warnings.warn(ARIMA_DEPRECATION_WARN, FutureWarning)\n",
      "C:\\Users\\Samir555\\anaconda3\\lib\\site-packages\\statsmodels\\tsa\\arima_model.py:472: FutureWarning: \n",
      "statsmodels.tsa.arima_model.ARMA and statsmodels.tsa.arima_model.ARIMA have\n",
      "been deprecated in favor of statsmodels.tsa.arima.model.ARIMA (note the .\n",
      "between arima and model) and\n",
      "statsmodels.tsa.SARIMAX. These will be removed after the 0.12 release.\n",
      "\n",
      "statsmodels.tsa.arima.model.ARIMA makes use of the statespace framework and\n",
      "is both well tested and maintained.\n",
      "\n",
      "To silence this warning and continue using ARMA and ARIMA until they are\n",
      "removed, use:\n",
      "\n",
      "import warnings\n",
      "warnings.filterwarnings('ignore', 'statsmodels.tsa.arima_model.ARMA',\n",
      "                        FutureWarning)\n",
      "warnings.filterwarnings('ignore', 'statsmodels.tsa.arima_model.ARIMA',\n",
      "                        FutureWarning)\n",
      "\n",
      "  warnings.warn(ARIMA_DEPRECATION_WARN, FutureWarning)\n"
     ]
    }
   ],
   "source": [
    "model_financial =  close[:79]                                                       # choose a training set for training the model\n",
    "model_ARIMA = sm.tsa.ARIMA(model_financial, order=(15,1,1)).fit(full_output = True) # model training (removing the 15th lag for white noise)\n",
    "print (model_ARIMA.summary())"
   ]
  },
  {
   "cell_type": "code",
   "execution_count": 34,
   "metadata": {},
   "outputs": [
    {
     "name": "stderr",
     "output_type": "stream",
     "text": [
      "C:\\Users\\Samir555\\anaconda3\\lib\\site-packages\\statsmodels\\tsa\\stattools.py:652: FutureWarning: The default number of lags is changing from 40 tomin(int(10 * np.log10(nobs)), nobs - 1) after 0.12is released. Set the number of lags to an integer to  silence this warning.\n",
      "  warnings.warn(\n",
      "C:\\Users\\Samir555\\anaconda3\\lib\\site-packages\\statsmodels\\tsa\\stattools.py:662: FutureWarning: fft=True will become the default after the release of the 0.12 release of statsmodels. To suppress this warning, explicitly set fft=False.\n",
      "  warnings.warn(\n"
     ]
    },
    {
     "data": {
      "image/png": "[encoded data removed]",
      "text/plain": [
       "<Figure size 432x288 with 1 Axes>"
      ]
     },
     "metadata": {
      "needs_background": "light"
     },
     "output_type": "display_data"
    }
   ],
   "source": [
    "Q_test = sm.tsa.stattools.acf(model_ARIMA.resid, qstat = True)\n",
    "print (DataFrame({'q_stat': Q_test[1], 'p_value': Q_test[2]}))\n",
    "Partial_autocorrelation = sm.graphics.tsa.plot_pacf(model_ARIMA.resid, lags = 19)"
   ]
  },
  {
   "cell_type": "code",
   "execution_count": 210,
   "metadata": {},
   "outputs": [
    {
     "data": {
      "image/png": "[encoded data removed]",
      "text/plain": [
       "<Figure size 720x720 with 1 Axes>"
      ]
     },
     "metadata": {
      "needs_background": "light"
     },
     "output_type": "display_data"
    }
   ],
   "source": [
    "# Forecast model visualization\n",
    "week_test = np.arange(79, 102)                    # create an array for building the forecast part of the chart (forecasting part)\n",
    "week_train = np.arange(0,102)                     # create an array for plotting the entire chart (data for all weeks)\n",
    "pred = model_ARIMA.predict(79, 101, typ='levels') # predict further behavior of the model\n",
    "fig, ax = plt.subplots(figsize=(10,10))\n",
    "ax.plot(week_test, pred, label = 'Prediction')\n",
    "ax.plot(week_train, close, label = 'Week prices FTSE')\n",
    "ax.legend()                                       # display legends for readability\n",
    "plt.grid()\n",
    "plt.xlabel('Week number')\n",
    "plt.ylabel('FTSE price')\n",
    "plt.show()\n"
   ]
  },
  {
   "cell_type": "markdown",
   "metadata": {},
   "source": [
    "# PART 3. The connection between the S&P 500 and the FTSE on daily fluctuations\n"
   ]
  },
  {
   "cell_type": "code",
   "execution_count": 43,
   "metadata": {
    "scrolled": true
   },
   "outputs": [],
   "source": [
    "# Reading S&P 500 data from tables\n",
    "\n",
    "# date column\n",
    "with open('DatasetSP_days.csv', 'r') as file_data_csv:\n",
    "    csvfile_reader = csv.reader(file_data_csv, delimiter=\";\")\n",
    "    next(csvfile_reader) \n",
    "    data_array_date_america = [line[0] for line in csvfile_reader]\n",
    "    \n",
    "# time column\n",
    "with open('DatasetSP_days.csv', 'r') as file_data_csv:\n",
    "    csvfile_reader = csv.reader(file_data_csv, delimiter=\";\")\n",
    "    next(csvfile_reader) \n",
    "    data_array_time_america = [line[6] for line in csvfile_reader]\n",
    "data_array_times_america = data_array_time_america[0:421]                 # time from 9:30 a.m to 16:30 p.m (data changes at intervals per minute)\n",
    "#print(data_array_date_america[:300])\n",
    "\n",
    "# prices column\n",
    "with open('DatasetSP_days.csv', 'r') as file_data_csv:\n",
    "    csvfile_reader = csv.reader(file_data_csv, delimiter=\";\")\n",
    "    next(csvfile_reader) \n",
    "    data_array_SP_america = [line[4] for line in csvfile_reader]\n",
    "    \n",
    "# import initially data columns of time    \n",
    "with open('DatasetSP_days.csv', 'r') as file_data_csv:\n",
    "    csvfile_reader = csv.reader(file_data_csv, delimiter=\";\")\n",
    "    next(csvfile_reader) \n",
    "    data_array_times_america_full = [line[2] for line in csvfile_reader]  # full times from Excel table\n",
    "\n",
    "\n",
    "# counting the number of entries in the array S&P 500\n",
    "a = Counter(data_array_date_america)\n",
    "sorted_mass_america = sorted(a.items())                                   # creating dictionary\n",
    "sorted_mass_dict_america = dict(sorted_mass_america)\n",
    "dates_america = []\n",
    "dates_value_america=[]\n",
    "for i, key in enumerate(sorted_mass_dict_america):                        # dates and number of records for each date\n",
    "    dates_america.append(key)\n",
    "    dates_value_america.append(sorted_mass_dict_america[key])\n",
    "\n",
    "# Similarly reading FTSE data from tables \n",
    "\n",
    "# import initially data columns of time\n",
    "with open('DatasetFTSE_days.csv', 'r') as file_data_csv:\n",
    "    csvfile_reader = csv.reader(file_data_csv, delimiter=\";\")\n",
    "    next(csvfile_reader) \n",
    "    data_array_time = [line[1] for line in csvfile_reader]\n",
    "\n",
    "# prices column    \n",
    "with open('DatasetFTSE_days.csv', 'r') as file_data_csv:\n",
    "    csvfile_reader = csv.reader(file_data_csv, delimiter=\";\")\n",
    "    next(csvfile_reader) \n",
    "    data_array_FTSE = [line[2] for line in csvfile_reader]\n",
    "\n",
    "# date column    \n",
    "with open('DatasetFTSE_days.csv', 'r') as file_data_csv:\n",
    "    csvfile_reader = csv.reader(file_data_csv, delimiter=\";\")\n",
    "    next(csvfile_reader) \n",
    "    data_array_date = [line[0] for line in csvfile_reader]\n",
    "\n",
    "# time column    \n",
    "with open('DatasetFTSE_days.csv', 'r') as file_data_csv:\n",
    "    csvfile_reader = csv.reader(file_data_csv, delimiter=\";\")\n",
    "    next(csvfile_reader)\n",
    "    data_array_times = [line[4] for line in csvfile_reader]\n",
    "data_array_times_array = data_array_times[0:451]\n",
    "\n",
    "\n",
    "# counting the number of entries in the array FTSE\n",
    "с = Counter(data_array_date)\n",
    "sorted_mass = sorted(с.items())\n",
    "sorted_mass_dict = dict(sorted_mass)\n",
    "dates = []\n",
    "dates_value=[]\n",
    "for i, key in enumerate(sorted_mass_dict):\n",
    "    dates.append(key)\n",
    "    dates_value.append(sorted_mass_dict[key])\n",
    "\n",
    "# initialization of parameters\n",
    "sum=0\n",
    "sum1=0\n",
    "sumbegin = 0\n",
    "sumend = 0\n",
    "day=[]\n",
    "index_begin=0\n",
    "count=0\n",
    "mass_arr = []\n",
    "massiv_data_used_asia=[]\n",
    "prices_days_asia=[]\n",
    "\n",
    "# a function that combines paired days into one, iterating over all dates in an arrays to create unique entries\n",
    "\n",
    "for i in range(0, len(sorted_mass_dict)-1):\n",
    "    if i==0:\n",
    "        sum = int(dates_value[i]+dates_value[i+1])+1\n",
    "        sum1=0\n",
    "    else:\n",
    "        sum =int(dates_value[i+1])+sum\n",
    "        sum1=sum-int(dates_value[i]+dates_value[i+1])\n",
    "        \n",
    "    if (int(dates[i+1]) - int(dates[i]) ==1) and [x for x in dates_america if x==dates[i+1]]:\n",
    "        massiv_data_used_asia.append(dates[i+1]) \n",
    "        time_arr = data_array_time[sum1:sum]\n",
    "        day_close = data_array_FTSE[sum1:sum]\n",
    "        for m in range(1, len(data_array_times_array)):\n",
    "            for t in time_arr: \n",
    "                if data_array_times_array[m] == t:\n",
    "                    if mass_arr==[]:\n",
    "                        index_begin=time_arr.index(t)\n",
    "                    mass_arr.append(t)\n",
    "                    count+=1\n",
    "                    break\n",
    "        if (index_begin+len(mass_arr)>=  len(day_close)) and len(mass_arr_america)!=0:\n",
    "            index_end= len(day_close)\n",
    "            price = ((float(day_close[index_end-1])-float(day_close[index_begin]))/float(day_close[index_begin]))*100\n",
    "        elif (index_begin+len(mass_arr)>=  len(day_close)) and len(mass_arr_america)==0:\n",
    "            price=0\n",
    "        else:\n",
    "            index_end = index_begin+len(mass_arr)\n",
    "            # calculation of the increase from one point in time to an another and write it into the array of price increases in the Asian session\n",
    "            price = ((float(day_close[index_end-1])-float(day_close[index_begin]))/float(day_close[index_begin]))*100\n",
    "        prices_days_asia.append(price)\n",
    "        count = 0\n",
    "        mass_arr.clear()\n",
    "# print(prices_days_asia)\n",
    "        "
   ]
  },
  {
   "cell_type": "code",
   "execution_count": 44,
   "metadata": {
    "scrolled": false
   },
   "outputs": [],
   "source": [
    "# Formation of a positive or negative price increase for the S&P 500 index\n",
    "\n",
    "finish_massiv_dates_america=[]\n",
    "\n",
    "# initialization of the clock array for america\n",
    "\n",
    "mass_arr_america = []\n",
    "\n",
    "# intersection the two arrays to figure out which dates to use for the S&P 500\n",
    "# it is necessary to thin the array so that the arrays for comparing both indices are the same\n",
    "\n",
    "for m in range(0, len(massiv_data_used_asia)):\n",
    "    for t in dates_america: \n",
    "        if massiv_data_used_asia[m] == t:\n",
    "            finish_massiv_dates_america.append(t)\n",
    "            break            \n",
    "\n",
    "# initialization of parameters\n",
    "\n",
    "suma1=0\n",
    "suma=0\n",
    "count_america = 0\n",
    "index_begin_america = 0\n",
    "index_end_america = 0\n",
    "prices_days_america = []\n",
    "\n",
    "# the blocks themselves are single, so the structure of the code will be slightly different\n",
    "# Start forming blocks of sums to form a unique array of dates\n",
    "\n",
    "for i in range(0, len(dates_america)):\n",
    "    # formation of the amount from one date to another\n",
    "    \n",
    "    if i==0:\n",
    "        suma =int(dates_value_america[i])+1\n",
    "        suma1=0\n",
    "    else:\n",
    "        suma =int(dates_value_america[i])+suma\n",
    "        suma1=suma-int(dates_value_america[i])\n",
    "\n",
    "\n",
    "    if [x for x in finish_massiv_dates_america if x==dates_america[i]]  and [x for x in dates_america if x==dates_america[i]]: \n",
    "        time_arr_america = data_array_times_america_full[suma1:suma]\n",
    "        day_close_america = data_array_SP_america[suma1:suma]\n",
    "        for m in range(1, len(data_array_times_america)):\n",
    "            for t in time_arr_america: \n",
    "                if data_array_times_america[m] == t:\n",
    "                    if mass_arr_america==[]:\n",
    "                        index_begin_america=time_arr_america.index(t)\n",
    "                    mass_arr_america.append(t)\n",
    "                    count_america+=1\n",
    "                    break\n",
    "\n",
    "        if (index_begin_america+len(mass_arr_america)>=  len(day_close_america)) and len(mass_arr_america)!=0:\n",
    "            index_end_america= len(day_close_america)\n",
    "            price = ((float(day_close_america[index_end_america-1])-float(day_close_america[index_begin_america]))/float(day_close_america[index_begin_america]))*100\n",
    "        elif (index_begin_america+len(mass_arr_america)>=  len(day_close_america)) and len(mass_arr_america) ==0:\n",
    "            price=0\n",
    "        else:\n",
    "            index_end_america = index_begin_america+len(mass_arr_america)\n",
    "            # calculation of the increase from one point in time to an another and write it into the array of price increases in the Asian session\n",
    "            \n",
    "            price = ((float(day_close_america[index_end_america-1])-float(day_close_america[index_begin_america]))/float(day_close_america[index_begin_america]))*100\n",
    "        prices_days_america.append(price) # price increase array\n",
    "        count_america = 0\n",
    "        mass_arr_america.clear()\n",
    "  \n",
    "    "
   ]
  },
  {
   "cell_type": "code",
   "execution_count": 46,
   "metadata": {
    "scrolled": true
   },
   "outputs": [
    {
     "name": "stdout",
     "output_type": "stream",
     "text": [
      "R^2 =  1.8233997670646929e-06\n",
      "a1: 0.0456405028570506\n",
      "a0: [-0.00137209]\n"
     ]
    },
    {
     "data": {
      "image/png": "[encoded data removed]",
      "text/plain": [
       "<Figure size 432x288 with 1 Axes>"
      ]
     },
     "metadata": {
      "needs_background": "light"
     },
     "output_type": "display_data"
    }
   ],
   "source": [
    "# Formation of a correlation model\n",
    "prices_days_asia = np.array(prices_days_asia).reshape((-1, 1)) \n",
    "prices_days_america = np.array(prices_days_america)\n",
    "model = LinearRegression().fit(prices_days_asia, prices_days_america) \n",
    "R= model.score(prices_days_asia, prices_days_america) \n",
    "print('R^2 = ', R)\n",
    "print('a1:', model.intercept_) \n",
    "print('a0:', model.coef_)\n",
    "\n",
    "import matplotlib.pyplot as plt \n",
    "x=np.arange(-10.0,16.0)\n",
    "y = 0.0088*x-0.00338\n",
    "fig = plt.figure()\n",
    "ax = fig.add_subplot(1,1,1) \n",
    "plt.plot(prices_days_asia, prices_days_america, 'bo', color = 'blue', label = 'Historical data') \n",
    "\n",
    "plt.plot(x,y)\n",
    "plt.title('FTSE and S&P 500 correlation daily')\n",
    "plt.xlabel('Profitability FTSE daily') \n",
    "plt.ylabel('Profitability S&P 500 daily') \n",
    "ax.grid()\n",
    "ax.set_ylim(-4, 3)\n",
    "ax.set_xlim(-10, 5)\n",
    "plt.show()"
   ]
  },
  {
   "cell_type": "markdown",
   "metadata": {},
   "source": [
    "# PART 4. Impact of the main session of the FTSE index on the first hour of the main session of the S&P 500 index"
   ]
  },
  {
   "cell_type": "code",
   "execution_count": null,
   "metadata": {},
   "outputs": [],
   "source": [
    "# Formation of an array of prices of the first hour of trading of the S&P 500\n",
    "\n",
    "\n",
    "with open('DatasetSP_days.csv', 'r') as file_data_csv:\n",
    "    csvfile_reader = csv.reader(file_data_csv, delimiter=\";\")\n",
    "    next(csvfile_reader) \n",
    "    data_array_time_america = [line[5] for line in csvfile_reader]\n",
    "data_array_times_america_hour = data_array_time_america[0:62] # time from 9: 30 to 10: 30 (the first hour of trading)\n",
    "\n",
    "suma1=0\n",
    "suma=0\n",
    "prices_days_america_hour = []\n",
    "count_america = 0\n",
    "index_begin_america = 0\n",
    "price_hour = 0\n",
    "\n",
    "\n",
    "for i in range(0, len(dates_america)):\n",
    "    if i==0:\n",
    "        suma =int(dates_value_america[i])+1\n",
    "        suma1=0\n",
    "    else:\n",
    "        suma =int(dates_value_america[i])+suma\n",
    "        suma1=suma-int(dates_value_america[i])\n",
    "    if [x for x in finish_massiv_dates_america if x==dates_america[i]]  and [x for x in dates_america if x==dates_america[i]]: \n",
    "        time_arr_america = data_array_times_america_full[suma1:suma]\n",
    "        day_close_america = data_array_SP_america[suma1:suma]\n",
    "        for m in range(1, len(data_array_times_america_hour)):\n",
    "            for t in time_arr_america: \n",
    "                if data_array_times_america_hour[m] == t:\n",
    "                    if mass_arr_america==[]:\n",
    "                        index_begin_america=time_arr_america.index(t)\n",
    "                    mass_arr_america.append(t)\n",
    "                    count_america+=1\n",
    "                    break\n",
    "        if (index_begin_america+len(mass_arr_america)>=  len(day_close_america)) and len(mass_arr_america)!=0:\n",
    "            index_end_america= len(day_close_america)\n",
    "            price_hour = ((float(day_close_america[index_end_america-1])-float(day_close_america[index_begin_america]))/float(day_close_america[index_begin_america]))*100\n",
    "        elif (index_begin_america+len(mass_arr_america)>=  len(day_close_america)) and len(mass_arr_america) ==0:\n",
    "            price_hour=0\n",
    "        else:\n",
    "            index_end_america = index_begin_america+len(mass_arr_america)\n",
    "            price_hour = ((float(day_close_america[index_end_america-1])-float(day_close_america[index_begin_america]))/float(day_close_america[index_begin_america]))*100\n",
    "        prices_days_america_hour.append(price_hour)\n",
    "        count_america = 0\n",
    "        mass_arr_america.clear()\n",
    "\n",
    "# Building a correlation model\n",
    "\n",
    "prices_days_asia = np.array(prices_days_asia).reshape((-1, 1))\n",
    "prices_days_america = np.array(prices_days_america_hour)\n",
    "model = LinearRegression().fit(prices_days_asia, prices_days_america_hour) \n",
    "R= model.score(prices_days_asia, prices_days_america_hour) \n",
    "print('R^2 = ', R)\n",
    "print('a1:', model.intercept_) \n",
    "print('a0:', model.coef_)\n",
    "\n",
    "# Graphical interpretation of the correlation model\n",
    "\n",
    "x=np.arange(-10.0,16.0)\n",
    "y = 0.205*x-0.084\n",
    "fig = plt.figure()\n",
    "ax = fig.add_subplot(1,1,1) \n",
    "plt.plot(prices_days_asia, prices_days_america, 'bo', color = 'blue', label = 'Historical data') е\n",
    "plt.plot(x,y)\n",
    "plt.title('FTSE and S&P 500 correlation. First hour S&P influence')\n",
    "plt.xlabel('Profitability FTSE first daily') \n",
    "plt.ylabel('Profitability S&P 500 first hoour') \n",
    "ax.grid()\n",
    "ax.set_ylim(-4, 3)\n",
    "ax.set_xlim(-10, 5)\n",
    "plt.show()"
   ]
  }
 ],
 "metadata": {
  "kernelspec": {
   "display_name": "Python 3",
   "language": "python",
   "name": "python3"
  },
  "language_info": {
   "codemirror_mode": {
    "name": "ipython",
    "version": 3
   },
   "file_extension": ".py",
   "mimetype": "text/x-python",
   "name": "python",
   "nbconvert_exporter": "python",
   "pygments_lexer": "ipython3",
   "version": "3.8.5"
  }
 },
 "nbformat": 4,
 "nbformat_minor": 4
}
